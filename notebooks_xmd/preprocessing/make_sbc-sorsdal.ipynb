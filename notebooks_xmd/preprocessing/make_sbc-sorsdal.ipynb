{
 "cells": [
  {
   "cell_type": "code",
   "execution_count": 1,
   "metadata": {},
   "outputs": [],
   "source": [
    "run ='sd'\n",
    "\n",
    "import numpy as np \n",
    "import os\n",
    "import sys\n",
    "import xarray as xr\n",
    "import scipy.io as sio\n",
    "import matplotlib.pyplot as plt\n",
    "import datetime\n",
    "from scipy.interpolate import griddata\n",
    "\n",
    "proj_dir = os.path.join(os.pardir,os.pardir)\n",
    "data_dir = os.path.join(proj_dir,'data','preprocessing')\n",
    "src_dir = os.path.join(proj_dir,'src')\n",
    "\n",
    "sys.path.append(src_dir)\n",
    "from tools.NDinterp import NDinterp\n",
    "from tools.log_progress import log_progress\n",
    "\n",
    "T_mask_path = os.path.join(data_dir,'external','tamura','EASE_landmask_H.data')\n",
    "T_lat_lon_path = os.path.join(data_dir,'external','tamura','latlon.data')\n",
    "T_data_path = os.path.join(data_dir,'external','tamura')\n",
    "era_path = os.path.join(data_dir,'external','era_interim','ERA_Interim_1992_2011.2daily.*winds.nc')\n",
    "R_grid_path = os.path.join(data_dir,'processed',run+'_grd.nc')"
   ]
  },
  {
   "cell_type": "code",
   "execution_count": 2,
   "metadata": {},
   "outputs": [],
   "source": [
    "#load roms grid and convert lon to 0-360\n",
    "\n",
    "R_grid = xr.open_dataset(R_grid_path)\n",
    "R_lon = R_grid.lon_rho.values\n",
    "R_lat = R_grid.lat_rho.values\n",
    "R_angle = R_grid.angle.values\n",
    "R_ulon = R_grid.lon_u.values\n",
    "R_vlon = R_grid.lon_v.values\n",
    "R_ulat = R_grid.lat_u.values\n",
    "R_vlat = R_grid.lat_v.values\n",
    "\n",
    "\n",
    "R_lon[R_lon<0]+=360\n",
    "R_ulon[R_ulon<0]+=360\n",
    "R_vlon[R_vlon<0]+=360"
   ]
  },
  {
   "cell_type": "code",
   "execution_count": 3,
   "metadata": {},
   "outputs": [],
   "source": [
    "#read in tamura land mask\n",
    "with open(T_mask_path,'rb') as fid:\n",
    "    T_mask = np.fromfile(fid,count=(721*721),dtype='float32').reshape((721,721))\n",
    "    T_mask = np.flipud(T_mask)"
   ]
  },
  {
   "cell_type": "code",
   "execution_count": 4,
   "metadata": {},
   "outputs": [],
   "source": [
    "#get tamura lat lon coordinates\n",
    "with open(T_lat_lon_path,'rb') as fid:\n",
    "    T_lat_lon = np.fromfile(fid,count=(721*721*2),dtype='float32').reshape((2,721,721))\n",
    "T_lat,T_lon = (T_lat_lon[0],T_lat_lon[1])\n",
    "T_lat = np.flipud(T_lat)\n",
    "T_lon = np.flipud(T_lon)\n",
    "T_lon[T_lon<0]+=360"
   ]
  },
  {
   "cell_type": "code",
   "execution_count": 5,
   "metadata": {},
   "outputs": [],
   "source": [
    "#read in era interim winds and resample from twice daily to daily\n",
    "era_ds = xr.open_mfdataset(era_path,data_vars='minimal').sel(time='2007',latitude=slice(-30,-90)).resample(time='D').mean()\n",
    "\n",
    "#get era coordinates\n",
    "era_lon,era_lat = era_ds.longitude.values,era_ds.latitude.values\n",
    "era_lon_2d,era_lat_2d = np.meshgrid(era_lon,era_lat)"
   ]
  },
  {
   "cell_type": "code",
   "execution_count": 6,
   "metadata": {},
   "outputs": [],
   "source": [
    "#define regridding functions for era and tamura data\n",
    "# griddata takes flat arrays of source points and data and interpolates to 2d grid\n",
    "        \n",
    "\n",
    "def regrid_tamura(slon,slat,sdat,tlon,tlat):\n",
    "    \n",
    "    slon = slon[slat<(tlat.max()+2)] # only load data up to 2 deg further north of roms highest latitude\n",
    "    sdat = sdat[slat<(tlat.max()+2)]\n",
    "    slat = slat[slat<(tlat.max()+2)]\n",
    "    \n",
    "    #tamura comes from npstereo curvilinear grid\n",
    "    #we need to find points close to the 0/360 gap, wrap them and add them to the list for source points\n",
    "    # otherwise we get an interpolation gap between 0/360\n",
    "    \n",
    "    ii1 = (slon<2.0)\n",
    "\n",
    "    slon_ext1 = slon[ii1]\n",
    "    slon_ext1[slon_ext1<=1]+=360\n",
    "\n",
    "    ii2 = (slon>358.0)\n",
    "\n",
    "    slon_ext2 = slon[ii2]\n",
    "    slon_ext2[slon_ext2>=359]-=360\n",
    "    \n",
    "    slon_ext = np.hstack((slon_ext1,slon_ext2))\n",
    "    slat_ext = np.hstack((slat[ii1],slat[ii2]))\n",
    "    sdat_ext = np.hstack((sdat[ii1],sdat[ii2]))\n",
    "      \n",
    "    slon = np.hstack((slon,slon_ext))\n",
    "    slat = np.hstack((slat,slat_ext))\n",
    "    sdat = np.hstack((sdat,sdat_ext))\n",
    "\n",
    "    tdat =griddata((slon,slat),sdat,(tlon,tlat),'cubic')\n",
    "    \n",
    "    return tdat"
   ]
  },
  {
   "cell_type": "code",
   "execution_count": 7,
   "metadata": {},
   "outputs": [],
   "source": [
    "# era is more easy, since its on a mercator projection\n",
    "# we just have to extend the arrays at the beginning and end to bridge the gap at 0/360\n",
    "\n",
    "def regrid_era(slon_raw,slat,sdat_raw,tlon,tlat):\n",
    "    \n",
    "    slon = np.zeros(np.size(slon_raw)+2)\n",
    "    slon[0] = slon_raw[-1]-360\n",
    "    slon[1:-1] = slon_raw[:]\n",
    "    slon[-1] = slon_raw[0]+360\n",
    "\n",
    "    slon, slat = np.meshgrid(slon,slat)\n",
    "    \n",
    "    sdat = np.zeros((np.size(sdat_raw,0),np.size(sdat_raw,1)+2))\n",
    "    sdat[:,0] = sdat_raw[:,-1]\n",
    "    sdat[:,1:-1] = sdat_raw[:,:]\n",
    "    sdat[:,-1] = sdat_raw[:,0]\n",
    "    \n",
    "    slon = slon[slat<(tlat.max()+2)]\n",
    "    sdat = sdat[slat<(tlat.max()+2)]\n",
    "    slat = slat[slat<(tlat.max()+2)]\n",
    "\n",
    "    tdat =griddata((slon,slat),sdat,(tlon,tlat),'cubic')\n",
    "        \n",
    "    return tdat"
   ]
  },
  {
   "cell_type": "code",
   "execution_count": 8,
   "metadata": {
    "scrolled": false
   },
   "outputs": [
    {
     "name": "stdout",
     "output_type": "stream",
     "text": [
      "Processing month:  jan with days:  31\n",
      "Containing days of year:  [ 1  2  3  4  5  6  7  8  9 10 11 12 13 14 15 16 17 18 19 20 21 22 23 24\n",
      " 25 26 27 28 29 30 31]\n"
     ]
    },
    {
     "data": {
      "application/vnd.jupyter.widget-view+json": {
       "model_id": "3009752e00064428b81e4aa64c5c4c00",
       "version_major": 2,
       "version_minor": 0
      },
      "text/plain": [
       "VBox(children=(HTML(value=''), IntProgress(value=0, max=31)))"
      ]
     },
     "metadata": {},
     "output_type": "display_data"
    },
    {
     "name": "stdout",
     "output_type": "stream",
     "text": [
      "Saving month to ../../data/preprocessing/interim/sd_shflux_01.nc\n",
      "Saving month to ../../data/preprocessing/interim/sd_swflux_01.nc\n",
      "Saving month to ../../data/preprocessing/interim/sd_sustr_01.nc\n",
      "Saving month to ../../data/preprocessing/interim/sd_svstr_01.nc\n",
      "Processing month:  feb with days:  28\n",
      "Containing days of year:  [32 33 34 35 36 37 38 39 40 41 42 43 44 45 46 47 48 49 50 51 52 53 54 55\n",
      " 56 57 58 59]\n"
     ]
    },
    {
     "data": {
      "application/vnd.jupyter.widget-view+json": {
       "model_id": "bc5166707f024f4cbd7f0b9ee3b52d03",
       "version_major": 2,
       "version_minor": 0
      },
      "text/plain": [
       "VBox(children=(HTML(value=''), IntProgress(value=0, max=28)))"
      ]
     },
     "metadata": {},
     "output_type": "display_data"
    },
    {
     "name": "stdout",
     "output_type": "stream",
     "text": [
      "Saving month to ../../data/preprocessing/interim/sd_shflux_02.nc\n",
      "Saving month to ../../data/preprocessing/interim/sd_swflux_02.nc\n",
      "Saving month to ../../data/preprocessing/interim/sd_sustr_02.nc\n",
      "Saving month to ../../data/preprocessing/interim/sd_svstr_02.nc\n",
      "Processing month:  mar with days:  31\n",
      "Containing days of year:  [60 61 62 63 64 65 66 67 68 69 70 71 72 73 74 75 76 77 78 79 80 81 82 83\n",
      " 84 85 86 87 88 89 90]\n"
     ]
    },
    {
     "data": {
      "application/vnd.jupyter.widget-view+json": {
       "model_id": "c30fb27b6c244c169806bbe090f041ff",
       "version_major": 2,
       "version_minor": 0
      },
      "text/plain": [
       "VBox(children=(HTML(value=''), IntProgress(value=0, max=31)))"
      ]
     },
     "metadata": {},
     "output_type": "display_data"
    },
    {
     "name": "stdout",
     "output_type": "stream",
     "text": [
      "Saving month to ../../data/preprocessing/interim/sd_shflux_03.nc\n",
      "Saving month to ../../data/preprocessing/interim/sd_swflux_03.nc\n",
      "Saving month to ../../data/preprocessing/interim/sd_sustr_03.nc\n",
      "Saving month to ../../data/preprocessing/interim/sd_svstr_03.nc\n",
      "Processing month:  apr with days:  30\n",
      "Containing days of year:  [ 91  92  93  94  95  96  97  98  99 100 101 102 103 104 105 106 107 108\n",
      " 109 110 111 112 113 114 115 116 117 118 119 120]\n"
     ]
    },
    {
     "data": {
      "application/vnd.jupyter.widget-view+json": {
       "model_id": "7e8b8ac968ee4dc79906f2fc37b11c33",
       "version_major": 2,
       "version_minor": 0
      },
      "text/plain": [
       "VBox(children=(HTML(value=''), IntProgress(value=0, max=30)))"
      ]
     },
     "metadata": {},
     "output_type": "display_data"
    },
    {
     "name": "stdout",
     "output_type": "stream",
     "text": [
      "Saving month to ../../data/preprocessing/interim/sd_shflux_04.nc\n",
      "Saving month to ../../data/preprocessing/interim/sd_swflux_04.nc\n",
      "Saving month to ../../data/preprocessing/interim/sd_sustr_04.nc\n",
      "Saving month to ../../data/preprocessing/interim/sd_svstr_04.nc\n",
      "Processing month:  may with days:  31\n",
      "Containing days of year:  [121 122 123 124 125 126 127 128 129 130 131 132 133 134 135 136 137 138\n",
      " 139 140 141 142 143 144 145 146 147 148 149 150 151]\n"
     ]
    },
    {
     "data": {
      "application/vnd.jupyter.widget-view+json": {
       "model_id": "9f3ae34b0b7945018dfef8ff8e201f45",
       "version_major": 2,
       "version_minor": 0
      },
      "text/plain": [
       "VBox(children=(HTML(value=''), IntProgress(value=0, max=31)))"
      ]
     },
     "metadata": {},
     "output_type": "display_data"
    },
    {
     "name": "stdout",
     "output_type": "stream",
     "text": [
      "Saving month to ../../data/preprocessing/interim/sd_shflux_05.nc\n",
      "Saving month to ../../data/preprocessing/interim/sd_swflux_05.nc\n",
      "Saving month to ../../data/preprocessing/interim/sd_sustr_05.nc\n",
      "Saving month to ../../data/preprocessing/interim/sd_svstr_05.nc\n",
      "Processing month:  jun with days:  30\n",
      "Containing days of year:  [152 153 154 155 156 157 158 159 160 161 162 163 164 165 166 167 168 169\n",
      " 170 171 172 173 174 175 176 177 178 179 180 181]\n"
     ]
    },
    {
     "data": {
      "application/vnd.jupyter.widget-view+json": {
       "model_id": "3573222186e145b181e4519125aa8908",
       "version_major": 2,
       "version_minor": 0
      },
      "text/plain": [
       "VBox(children=(HTML(value=''), IntProgress(value=0, max=30)))"
      ]
     },
     "metadata": {},
     "output_type": "display_data"
    },
    {
     "name": "stdout",
     "output_type": "stream",
     "text": [
      "Saving month to ../../data/preprocessing/interim/sd_shflux_06.nc\n",
      "Saving month to ../../data/preprocessing/interim/sd_swflux_06.nc\n",
      "Saving month to ../../data/preprocessing/interim/sd_sustr_06.nc\n",
      "Saving month to ../../data/preprocessing/interim/sd_svstr_06.nc\n",
      "Processing month:  jul with days:  31\n",
      "Containing days of year:  [182 183 184 185 186 187 188 189 190 191 192 193 194 195 196 197 198 199\n",
      " 200 201 202 203 204 205 206 207 208 209 210 211 212]\n"
     ]
    },
    {
     "data": {
      "application/vnd.jupyter.widget-view+json": {
       "model_id": "4c84c346da984443985e1cbfd26c93c5",
       "version_major": 2,
       "version_minor": 0
      },
      "text/plain": [
       "VBox(children=(HTML(value=''), IntProgress(value=0, max=31)))"
      ]
     },
     "metadata": {},
     "output_type": "display_data"
    },
    {
     "name": "stdout",
     "output_type": "stream",
     "text": [
      "Saving month to ../../data/preprocessing/interim/sd_shflux_07.nc\n",
      "Saving month to ../../data/preprocessing/interim/sd_swflux_07.nc\n",
      "Saving month to ../../data/preprocessing/interim/sd_sustr_07.nc\n",
      "Saving month to ../../data/preprocessing/interim/sd_svstr_07.nc\n",
      "Processing month:  aug with days:  31\n",
      "Containing days of year:  [213 214 215 216 217 218 219 220 221 222 223 224 225 226 227 228 229 230\n",
      " 231 232 233 234 235 236 237 238 239 240 241 242 243]\n"
     ]
    },
    {
     "data": {
      "application/vnd.jupyter.widget-view+json": {
       "model_id": "cfa4ab6745ce4b7aa5591fa9593681de",
       "version_major": 2,
       "version_minor": 0
      },
      "text/plain": [
       "VBox(children=(HTML(value=''), IntProgress(value=0, max=31)))"
      ]
     },
     "metadata": {},
     "output_type": "display_data"
    },
    {
     "name": "stdout",
     "output_type": "stream",
     "text": [
      "Saving month to ../../data/preprocessing/interim/sd_shflux_08.nc\n",
      "Saving month to ../../data/preprocessing/interim/sd_swflux_08.nc\n",
      "Saving month to ../../data/preprocessing/interim/sd_sustr_08.nc\n",
      "Saving month to ../../data/preprocessing/interim/sd_svstr_08.nc\n",
      "Processing month:  sep with days:  30\n",
      "Containing days of year:  [244 245 246 247 248 249 250 251 252 253 254 255 256 257 258 259 260 261\n",
      " 262 263 264 265 266 267 268 269 270 271 272 273]\n"
     ]
    },
    {
     "data": {
      "application/vnd.jupyter.widget-view+json": {
       "model_id": "f3ee55a0b4254b8392db1d4bb2cac138",
       "version_major": 2,
       "version_minor": 0
      },
      "text/plain": [
       "VBox(children=(HTML(value=''), IntProgress(value=0, max=30)))"
      ]
     },
     "metadata": {},
     "output_type": "display_data"
    },
    {
     "name": "stdout",
     "output_type": "stream",
     "text": [
      "Saving month to ../../data/preprocessing/interim/sd_shflux_09.nc\n",
      "Saving month to ../../data/preprocessing/interim/sd_swflux_09.nc\n",
      "Saving month to ../../data/preprocessing/interim/sd_sustr_09.nc\n",
      "Saving month to ../../data/preprocessing/interim/sd_svstr_09.nc\n",
      "Processing month:  oct with days:  31\n",
      "Containing days of year:  [274 275 276 277 278 279 280 281 282 283 284 285 286 287 288 289 290 291\n",
      " 292 293 294 295 296 297 298 299 300 301 302 303 304]\n"
     ]
    },
    {
     "data": {
      "application/vnd.jupyter.widget-view+json": {
       "model_id": "18bc45e1d28c4bb29960ce0ad77234a3",
       "version_major": 2,
       "version_minor": 0
      },
      "text/plain": [
       "VBox(children=(HTML(value=''), IntProgress(value=0, max=31)))"
      ]
     },
     "metadata": {},
     "output_type": "display_data"
    },
    {
     "name": "stdout",
     "output_type": "stream",
     "text": [
      "Saving month to ../../data/preprocessing/interim/sd_shflux_10.nc\n",
      "Saving month to ../../data/preprocessing/interim/sd_swflux_10.nc\n",
      "Saving month to ../../data/preprocessing/interim/sd_sustr_10.nc\n",
      "Saving month to ../../data/preprocessing/interim/sd_svstr_10.nc\n",
      "Processing month:  nov with days:  30\n",
      "Containing days of year:  [305 306 307 308 309 310 311 312 313 314 315 316 317 318 319 320 321 322\n",
      " 323 324 325 326 327 328 329 330 331 332 333 334]\n"
     ]
    },
    {
     "data": {
      "application/vnd.jupyter.widget-view+json": {
       "model_id": "0ee05ae6537249338680a673c2282c52",
       "version_major": 2,
       "version_minor": 0
      },
      "text/plain": [
       "VBox(children=(HTML(value=''), IntProgress(value=0, max=30)))"
      ]
     },
     "metadata": {},
     "output_type": "display_data"
    },
    {
     "name": "stdout",
     "output_type": "stream",
     "text": [
      "Saving month to ../../data/preprocessing/interim/sd_shflux_11.nc\n",
      "Saving month to ../../data/preprocessing/interim/sd_swflux_11.nc\n",
      "Saving month to ../../data/preprocessing/interim/sd_sustr_11.nc\n",
      "Saving month to ../../data/preprocessing/interim/sd_svstr_11.nc\n",
      "Processing month:  dec with days:  31\n",
      "Containing days of year:  [335 336 337 338 339 340 341 342 343 344 345 346 347 348 349 350 351 352\n",
      " 353 354 355 356 357 358 359 360 361 362 363 364 365]\n"
     ]
    },
    {
     "data": {
      "application/vnd.jupyter.widget-view+json": {
       "model_id": "8f742da3e5f747fe9a04ba5a85651a27",
       "version_major": 2,
       "version_minor": 0
      },
      "text/plain": [
       "VBox(children=(HTML(value=''), IntProgress(value=0, max=31)))"
      ]
     },
     "metadata": {},
     "output_type": "display_data"
    },
    {
     "name": "stdout",
     "output_type": "stream",
     "text": [
      "Saving month to ../../data/preprocessing/interim/sd_shflux_12.nc\n",
      "Saving month to ../../data/preprocessing/interim/sd_swflux_12.nc\n",
      "Saving month to ../../data/preprocessing/interim/sd_sustr_12.nc\n",
      "Saving month to ../../data/preprocessing/interim/sd_svstr_12.nc\n"
     ]
    }
   ],
   "source": [
    "# MAKE THE MAGIC HAPPEN FOR 2007 AND save in interim folder\n",
    "month = ['jan','feb','mar','apr','may','jun','jul','aug','sep','oct','nov','dec']\n",
    "month_nb = ['01','02','03','04','05','06','07','08','09','10','11','12']\n",
    "daysPerMonth = [31,28,31,30,31,30,31,31,30,31,30,31]\n",
    "\n",
    "#month = ['nov']\n",
    "#month_nb = ['11']\n",
    "#daysPerMonth = [30]\n",
    "\n",
    "#month = ['jan']\n",
    "#\n",
    "#daysPerMonth = [1]\n",
    "\n",
    "dayOfYear = 1\n",
    "\n",
    "for month,days,month_nb in zip(month,daysPerMonth,month_nb):\n",
    "    \n",
    "    print('Processing month: ',month,'with days: ',days)\n",
    "    \n",
    "    daysOfYear = np.arange(dayOfYear,dayOfYear+days,dtype=int)\n",
    "    \n",
    "    print('Containing days of year: ',daysOfYear)\n",
    "\n",
    "    # preparing empty dataset\n",
    "    ds = xr.Dataset({'shflux':(['shf_time','eta_rho','xi_rho'], np.empty((days,R_grid.eta_rho.size,R_grid.xi_rho.size))),\n",
    "                     'swflux':(['swf_time','eta_rho','xi_rho'], np.empty((days,R_grid.eta_rho.size,R_grid.xi_rho.size))),\n",
    "                     'sustr':(['sms_time','eta_u','xi_u'], np.empty((days,R_grid.eta_u.size,R_grid.xi_u.size))),\n",
    "                     'svstr':(['sms_time','eta_v','xi_v'], np.empty((days,R_grid.eta_v.size,R_grid.xi_v.size)))},\n",
    "                   coords={'shf_time':(['shf_time'],daysOfYear),\n",
    "                           'swf_time':(['swf_time'],daysOfYear),\n",
    "                           'sms_time':(['sms_time'],daysOfYear)})\n",
    "   \n",
    "    #open Tamura month flux data \n",
    "    T_month_path = os.path.join(T_data_path,'TSDM2hb_2007_'+month+'.data')\n",
    "    with open(T_month_path,'rb') as fid:\n",
    "        T_data = np.swapaxes(np.fromfile(fid,count = days*6*721*721 ,dtype='float32').reshape(days,6,721,721),0,1)\n",
    "    \n",
    "    #looping over the days with running day-of-the-year and day-of-the-month index\n",
    "    for Eidx,Tidx in zip(log_progress(daysOfYear-1,name='days'),np.arange(days)):\n",
    "        \n",
    "        #read in Tamura heat and fresh water flux and turn in right position\n",
    "        shflux_tmp = np.flipud(T_data[0,Tidx])\n",
    "        ssflux_tmp = np.flipud(T_data[2,Tidx])\n",
    "        \n",
    "        #fill in tamuar mask for later resampling\n",
    "        shflux_tmp[T_mask==0] = np.nan\n",
    "        shflux_tmp = NDinterp(shflux_tmp)\n",
    "        \n",
    "        ssflux_tmp[T_mask==0] = np.nan\n",
    "        ssflux_tmp = NDinterp(ssflux_tmp)\n",
    "        \n",
    "        shflux_tmp = regrid_tamura(T_lon,T_lat,shflux_tmp,R_lon,R_lat) \n",
    "        ssflux_tmp = regrid_tamura(T_lon,T_lat,ssflux_tmp,R_lon,R_lat)\n",
    "        \n",
    "        shflux_tmp[shflux_tmp > 0.0]*=0.5\n",
    "        \n",
    "        ds.shflux[Tidx] = shflux_tmp\n",
    "        del shflux_tmp\n",
    "        \n",
    "        #convert to freshwater flux with convention positive up 'swf (E-P)',\n",
    "        #that means a positive freshwater flux value results in positive salt flux value\n",
    "        #and save to dataset\n",
    "        refSalt = 34.4\n",
    "\n",
    "        ds.swflux[Tidx] = ssflux_tmp/refSalt*100\n",
    "        del ssflux_tmp\n",
    "        \n",
    "        #select era-interim winds\n",
    "        uwnd = era_ds.u10[Eidx].values\n",
    "        vwnd = era_ds.v10[Eidx].values\n",
    "        \n",
    "        #rotate wind directions to roms grid\n",
    "        uv = (uwnd+1j*vwnd)*np.exp(1j*-(era_lon_2d/180*np.pi))\n",
    "        uwnd = uv.real\n",
    "        vwnd = uv.imag\n",
    "        \n",
    "        \n",
    "        uwnd = regrid_era(era_lon,era_lat,uwnd,R_ulon,R_ulat)\n",
    "        vwnd = regrid_era(era_lon,era_lat,vwnd,R_vlon,R_vlat)\n",
    "        \n",
    "        \n",
    "        #convert to stress\n",
    "        signu = np.sign(uwnd)\n",
    "        signv = np.sign(vwnd)\n",
    "\n",
    "        rhoAir = 1.3\n",
    "        Cd = 1.4e-3\n",
    "\n",
    "        taux = rhoAir*Cd*np.square(uwnd)*signu\n",
    "        tauy = rhoAir*Cd*np.square(vwnd)*signv\n",
    "        del uwnd, vwnd\n",
    "        \n",
    "        ds.sustr[Tidx]= taux#taux_smooth*fac\n",
    "        ds.svstr[Tidx]= tauy#tauy_smooth*fac\n",
    "        \n",
    "        \n",
    "        del taux, tauy\n",
    "        \n",
    "    #add attributes to data set and data arrays\n",
    "    ds.attrs={'title':'waom surface heat/fresh water fluxes and wind stress',\n",
    "                          'date':str(datetime.date.today()),\n",
    "                          'tamura_file':T_data_path,\n",
    "                          'era-interim file':era_path,\n",
    "                          'grid file':R_grid_path,\n",
    "                          'type':'ROMS forcing file'}\n",
    "    ds.shflux.attrs = {'long_name': 'surface net heat flux', 'units': 'Watts meter-2'}\n",
    "    ds.swflux.attrs = {'long_name': 'surface freshwater flux (E-P)',\n",
    "                       'negative': 'net precipitation',\n",
    "                       'positive': 'net evaporation',\n",
    "                       'units': 'centimetre day-1'}\n",
    "    ds.sustr.attrs = {'long_name': 'surface u-momentum stress', 'units': 'Newton meter-2'}\n",
    "    ds.svstr.attrs = {'long_name': 'surface u-momentum stress', 'units': 'Newton meter-2'}\n",
    "    ds.sms_time.attrs = {'cycle_length': days,'long_name': 'surface momentum stress time','units': 'day'}\n",
    "    ds.shf_time.attrs = {'cycle_length': days, 'long_name': 'surface heat flux time', 'units': 'day'}\n",
    "    ds.swf_time.attrs = {'cycle_length': days,'long_name': 'surface freshwater flux time','units': 'day'}\n",
    "    \n",
    "    #save month as netcdf files\n",
    "    for var,dim in zip(['shflux','swflux','sustr','svstr'],['shf_time','swf_time','sms_time','sms_time']):\n",
    "        int_path = os.path.join(data_dir,'interim',run+'_'+var+'_'+month_nb+'.nc')\n",
    "        print(\"Saving month to \"+int_path)\n",
    "        ds[var].to_netcdf(int_path,'w',unlimited_dims=dim)\n",
    "    #del ds\n",
    "    \n",
    "    #update the day of the year value for next month\n",
    "    dayOfYear += days"
   ]
  },
  {
   "cell_type": "code",
   "execution_count": 9,
   "metadata": {
    "scrolled": true
   },
   "outputs": [
    {
     "name": "stdout",
     "output_type": "stream",
     "text": [
      "saving final to../../data/preprocessing/processed/sd_shflux.nc\n",
      "saving final to../../data/preprocessing/processed/sd_swflux.nc\n",
      "saving final to../../data/preprocessing/processed/sd_sustr.nc\n",
      "saving final to../../data/preprocessing/processed/sd_svstr.nc\n"
     ]
    }
   ],
   "source": [
    "#collect all interim results, merge to yearly data amd adjust cycle length attribute\n",
    "#save forcing files in processed folder\n",
    "for var,dim in zip(['shflux','swflux','sustr','svstr'],['shf_time','swf_time','sms_time','sms_time']):\n",
    "    ds = xr.open_mfdataset(os.path.join(data_dir,'interim',run+'_'+var+'_??.nc'))\n",
    "    ds[dim]\n",
    "    ds[dim].attrs['cycle_length'] = float(365)\n",
    "    out_path = os.path.join(data_dir,'processed',run+'_'+var+'.nc')\n",
    "    print('saving final to'+out_path)\n",
    "    ds.to_netcdf(out_path,'w')"
   ]
  },
  {
   "cell_type": "markdown",
   "metadata": {},
   "source": [
    "# below just devel stuff"
   ]
  },
  {
   "cell_type": "code",
   "execution_count": null,
   "metadata": {},
   "outputs": [],
   "source": []
  },
  {
   "cell_type": "code",
   "execution_count": 10,
   "metadata": {},
   "outputs": [
    {
     "ename": "AttributeError",
     "evalue": "'Dataset' object has no attribute 'sustr'",
     "output_type": "error",
     "traceback": [
      "\u001b[0;31m---------------------------------------------------------------------------\u001b[0m",
      "\u001b[0;31mAttributeError\u001b[0m                            Traceback (most recent call last)",
      "\u001b[0;32m<ipython-input-10-afa930604d68>\u001b[0m in \u001b[0;36m<module>\u001b[0;34m()\u001b[0m\n\u001b[1;32m      4\u001b[0m \u001b[0mfig\u001b[0m\u001b[0;34m,\u001b[0m\u001b[0maxes\u001b[0m \u001b[0;34m=\u001b[0m \u001b[0mplt\u001b[0m\u001b[0;34m.\u001b[0m\u001b[0msubplots\u001b[0m\u001b[0;34m(\u001b[0m\u001b[0mncols\u001b[0m\u001b[0;34m=\u001b[0m\u001b[0;36m2\u001b[0m\u001b[0;34m,\u001b[0m\u001b[0mfigsize\u001b[0m\u001b[0;34m=\u001b[0m\u001b[0;34m(\u001b[0m\u001b[0;36m15\u001b[0m\u001b[0;34m,\u001b[0m\u001b[0;36m6\u001b[0m\u001b[0;34m)\u001b[0m\u001b[0;34m)\u001b[0m\u001b[0;34m\u001b[0m\u001b[0m\n\u001b[1;32m      5\u001b[0m \u001b[0max0\u001b[0m\u001b[0;34m,\u001b[0m\u001b[0max1\u001b[0m\u001b[0;34m=\u001b[0m\u001b[0maxes\u001b[0m\u001b[0;34m.\u001b[0m\u001b[0mflatten\u001b[0m\u001b[0;34m(\u001b[0m\u001b[0;34m)\u001b[0m\u001b[0;34m\u001b[0m\u001b[0m\n\u001b[0;32m----> 6\u001b[0;31m \u001b[0mds\u001b[0m\u001b[0;34m.\u001b[0m\u001b[0msustr\u001b[0m\u001b[0;34m.\u001b[0m\u001b[0mplot\u001b[0m\u001b[0;34m(\u001b[0m\u001b[0max\u001b[0m\u001b[0;34m=\u001b[0m\u001b[0max0\u001b[0m\u001b[0;34m,\u001b[0m\u001b[0mvmin\u001b[0m\u001b[0;34m=\u001b[0m\u001b[0ms_min\u001b[0m\u001b[0;34m,\u001b[0m\u001b[0mvmax\u001b[0m\u001b[0;34m=\u001b[0m\u001b[0ms_max\u001b[0m\u001b[0;34m,\u001b[0m\u001b[0mcmap\u001b[0m\u001b[0;34m=\u001b[0m\u001b[0mplt\u001b[0m\u001b[0;34m.\u001b[0m\u001b[0mcm\u001b[0m\u001b[0;34m.\u001b[0m\u001b[0mbwr\u001b[0m\u001b[0;34m)\u001b[0m\u001b[0;34m\u001b[0m\u001b[0m\n\u001b[0m\u001b[1;32m      7\u001b[0m \u001b[0mold\u001b[0m\u001b[0;34m.\u001b[0m\u001b[0msustr\u001b[0m\u001b[0;34m[\u001b[0m\u001b[0;36m0\u001b[0m\u001b[0;34m]\u001b[0m\u001b[0;34m.\u001b[0m\u001b[0mplot\u001b[0m\u001b[0;34m(\u001b[0m\u001b[0max\u001b[0m\u001b[0;34m=\u001b[0m\u001b[0max1\u001b[0m\u001b[0;34m,\u001b[0m\u001b[0mvmin\u001b[0m\u001b[0;34m=\u001b[0m\u001b[0ms_min\u001b[0m\u001b[0;34m,\u001b[0m\u001b[0mvmax\u001b[0m\u001b[0;34m=\u001b[0m\u001b[0ms_max\u001b[0m\u001b[0;34m,\u001b[0m\u001b[0mcmap\u001b[0m\u001b[0;34m=\u001b[0m\u001b[0mplt\u001b[0m\u001b[0;34m.\u001b[0m\u001b[0mcm\u001b[0m\u001b[0;34m.\u001b[0m\u001b[0mbwr\u001b[0m\u001b[0;34m)\u001b[0m\u001b[0;34m\u001b[0m\u001b[0m\n\u001b[1;32m      8\u001b[0m \u001b[0;32mfor\u001b[0m \u001b[0max\u001b[0m \u001b[0;32min\u001b[0m \u001b[0maxes\u001b[0m\u001b[0;34m:\u001b[0m\u001b[0;34m\u001b[0m\u001b[0m\n",
      "\u001b[0;32m~/bigStick/anaconda3/envs/antarctic_melting/lib/python3.6/site-packages/xarray/core/common.py\u001b[0m in \u001b[0;36m__getattr__\u001b[0;34m(self, name)\u001b[0m\n\u001b[1;32m    174\u001b[0m                     \u001b[0;32mreturn\u001b[0m \u001b[0msource\u001b[0m\u001b[0;34m[\u001b[0m\u001b[0mname\u001b[0m\u001b[0;34m]\u001b[0m\u001b[0;34m\u001b[0m\u001b[0m\n\u001b[1;32m    175\u001b[0m         raise AttributeError(\"%r object has no attribute %r\" %\n\u001b[0;32m--> 176\u001b[0;31m                              (type(self).__name__, name))\n\u001b[0m\u001b[1;32m    177\u001b[0m \u001b[0;34m\u001b[0m\u001b[0m\n\u001b[1;32m    178\u001b[0m     \u001b[0;32mdef\u001b[0m \u001b[0m__setattr__\u001b[0m\u001b[0;34m(\u001b[0m\u001b[0mself\u001b[0m\u001b[0;34m,\u001b[0m \u001b[0mname\u001b[0m\u001b[0;34m,\u001b[0m \u001b[0mvalue\u001b[0m\u001b[0;34m)\u001b[0m\u001b[0;34m:\u001b[0m\u001b[0;34m\u001b[0m\u001b[0m\n",
      "\u001b[0;31mAttributeError\u001b[0m: 'Dataset' object has no attribute 'sustr'"
     ]
    },
    {
     "data": {
      "image/png": "[encoded data removed]",
      "text/plain": [
       "<Figure size 1080x432 with 2 Axes>"
      ]
     },
     "metadata": {},
     "output_type": "display_data"
    }
   ],
   "source": [
    "s_min = -0.5\n",
    "s_max= 0.5\n",
    "plt.close()\n",
    "fig,axes = plt.subplots(ncols=2,figsize=(15,6))\n",
    "ax0,ax1=axes.flatten()\n",
    "ds.sustr.plot(ax=ax0,vmin=s_min,vmax=s_max,cmap=plt.cm.bwr)\n",
    "old.sustr[0].plot(ax=ax1,vmin=s_min,vmax=s_max,cmap=plt.cm.bwr)\n",
    "for ax in axes:\n",
    "    ax.set_aspect('equal')\n",
    "plt.show()"
   ]
  },
  {
   "cell_type": "code",
   "execution_count": null,
   "metadata": {},
   "outputs": [],
   "source": [
    "%matplotlib notebook\n",
    "s_min = -0.5\n",
    "s_max= 0.5\n",
    "plt.close()\n",
    "fig,axes = plt.subplots(ncols=2,figsize=(15,6))\n",
    "ax0,ax1=axes.flatten()\n",
    "ds.shflux.plot(ax=ax0)\n",
    "old_shflx.shflux[0].plot(ax=ax1)\n",
    "for ax in axes:\n",
    "    ax.set_aspect('equal')\n",
    "plt.show()"
   ]
  },
  {
   "cell_type": "code",
   "execution_count": null,
   "metadata": {},
   "outputs": [],
   "source": []
  },
  {
   "cell_type": "code",
   "execution_count": null,
   "metadata": {},
   "outputs": [],
   "source": [
    "path = os.path.join(os.environ.get('rawdir'),'gdata','waom_frc','waom10_sustr.nc')\n",
    "old_sustr = xr.open_dataset(path)\n",
    "\n",
    "path = os.path.join(os.environ.get('rawdir'),'gdata','waom_frc','waom10_shflux.nc')\n",
    "old_shflx = xr.open_dataset(path)"
   ]
  },
  {
   "cell_type": "code",
   "execution_count": null,
   "metadata": {},
   "outputs": [],
   "source": []
  }
 ],
 "metadata": {
  "kernelspec": {
   "display_name": "Python 3",
   "language": "python",
   "name": "python3"
  },
  "language_info": {
   "codemirror_mode": {
    "name": "ipython",
    "version": 3
   },
   "file_extension": ".py",
   "mimetype": "text/x-python",
   "name": "python",
   "nbconvert_exporter": "python",
   "pygments_lexer": "ipython3",
   "version": "3.6.6"
  }
 },
 "nbformat": 4,
 "nbformat_minor": 2
}
