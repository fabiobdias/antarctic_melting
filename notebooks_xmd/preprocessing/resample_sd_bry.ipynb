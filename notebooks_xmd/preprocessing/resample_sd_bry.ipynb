{
 "cells": [
  {
   "cell_type": "code",
   "execution_count": 1,
   "metadata": {},
   "outputs": [],
   "source": [
    "import numpy as np \n",
    "import os\n",
    "import sys\n",
    "import xarray as xr\n",
    "import scipy.io as sio\n",
    "import matplotlib.pyplot as plt\n",
    "import datetime\n",
    "from scipy.interpolate import griddata\n",
    "\n",
    "proj_dir = os.path.join(os.pardir,os.pardir)\n",
    "data_dir = os.path.join(proj_dir,'data','preprocessing')\n",
    "src_dir = os.path.join(proj_dir,'src')\n",
    "\n",
    "sys.path.append(src_dir)\n",
    "from tools.log_progress import log_progress"
   ]
  },
  {
   "cell_type": "markdown",
   "metadata": {},
   "source": [
    "# equid dummy bry with lat, lon and depth coordinates"
   ]
  },
  {
   "cell_type": "code",
   "execution_count": 6,
   "metadata": {
    "scrolled": true
   },
   "outputs": [
    {
     "data": {
      "text/plain": [
       "<xarray.Dataset>\n",
       "Dimensions:     (eta_rho: 205, eta_v: 204, one: 1, s_rho: 31, salt_time: 12, temp_time: 12, v2d_time: 12, v3d_time: 12, xi_rho: 257, xi_u: 256, zeta_time: 12)\n",
       "Coordinates:\n",
       "  * temp_time   (temp_time) float64 15.21 45.62 76.04 106.5 136.9 167.3 ...\n",
       "  * salt_time   (salt_time) float64 15.21 45.62 76.04 106.5 136.9 167.3 ...\n",
       "  * v3d_time    (v3d_time) float64 15.21 45.62 76.04 106.5 136.9 167.3 197.7 ...\n",
       "  * v2d_time    (v2d_time) float64 15.21 45.62 76.04 106.5 136.9 167.3 197.7 ...\n",
       "  * zeta_time   (zeta_time) float64 15.21 45.62 76.04 106.5 136.9 167.3 ...\n",
       "Dimensions without coordinates: eta_rho, eta_v, one, s_rho, xi_rho, xi_u\n",
       "Data variables:\n",
       "    theta_s     (one) float64 ...\n",
       "    theta_b     (one) float64 ...\n",
       "    Tcline      (one) float64 ...\n",
       "    hc          (one) float64 ...\n",
       "    sc_r        (s_rho) float64 ...\n",
       "    Cs_r        (s_rho) float64 ...\n",
       "    temp_north  (temp_time, s_rho, xi_rho) float64 ...\n",
       "    salt_north  (salt_time, s_rho, xi_rho) float64 ...\n",
       "    u_north     (v3d_time, s_rho, xi_u) float64 ...\n",
       "    v_north     (v3d_time, s_rho, xi_rho) float64 ...\n",
       "    ubar_north  (v2d_time, xi_u) float64 ...\n",
       "    vbar_north  (v2d_time, xi_rho) float64 ...\n",
       "    zeta_north  (zeta_time, xi_rho) float64 ...\n",
       "    temp_south  (temp_time, s_rho, xi_rho) float64 ...\n",
       "    salt_south  (salt_time, s_rho, xi_rho) float64 ...\n",
       "    u_south     (v3d_time, s_rho, xi_u) float64 ...\n",
       "    v_south     (v3d_time, s_rho, xi_rho) float64 ...\n",
       "    ubar_south  (v2d_time, xi_u) float64 ...\n",
       "    vbar_south  (v2d_time, xi_rho) float64 ...\n",
       "    zeta_south  (zeta_time, xi_rho) float64 ...\n",
       "    temp_east   (temp_time, s_rho, eta_rho) float64 ...\n",
       "    salt_east   (salt_time, s_rho, eta_rho) float64 ...\n",
       "    u_east      (v3d_time, s_rho, eta_rho) float64 ...\n",
       "    v_east      (v3d_time, s_rho, eta_v) float64 ...\n",
       "    ubar_east   (v2d_time, eta_rho) float64 ...\n",
       "    vbar_east   (v2d_time, eta_v) float64 ...\n",
       "    zeta_east   (zeta_time, eta_rho) float64 ...\n",
       "    temp_west   (temp_time, s_rho, eta_rho) float64 ...\n",
       "    salt_west   (salt_time, s_rho, eta_rho) float64 ...\n",
       "    u_west      (v3d_time, s_rho, eta_rho) float64 ...\n",
       "    v_west      (v3d_time, s_rho, eta_v) float64 ...\n",
       "    ubar_west   (v2d_time, eta_rho) float64 ...\n",
       "    vbar_west   (v2d_time, eta_v) float64 ...\n",
       "    zeta_west   (zeta_time, eta_rho) float64 ...\n",
       "Attributes:\n",
       "    title:      ROMS\n",
       "    date:       08-Nov-2018\n",
       "    clim_file:  ../../data/preprocessing/processed/sd_bry.nc\n",
       "    grd_file:   ../../data/preprocessing/processed/sd_grd.nc\n",
       "    type:       BOUNDARY file"
      ]
     },
     "execution_count": 6,
     "metadata": {},
     "output_type": "execute_result"
    }
   ],
   "source": [
    "bry_path = os.path.join(data_dir,'processed','sd_bry.nc')\n",
    "sd_bry = xr.open_dataset(bry_path)\n",
    "sd_bry"
   ]
  },
  {
   "cell_type": "code",
   "execution_count": 3,
   "metadata": {
    "scrolled": true
   },
   "outputs": [],
   "source": [
    "sd_grd_path = os.path.join(data_dir,'processed','sd_grd.nc')\n",
    "sd_grd = xr.open_dataset(sd_grd_path)"
   ]
  },
  {
   "cell_type": "code",
   "execution_count": 4,
   "metadata": {},
   "outputs": [],
   "source": [
    "from tools.calc_z import calc_z\n",
    "sd_grd['depth_rho'] = xr.DataArray(calc_z(sd_grd.h,sd_grd.zice,7,8,20,31)[0],dims=['s_rho','eta_rho','xi_rho'])\n",
    "depths = calc_z(sd_grd.h,sd_grd.zice,7,8,20,31)[0]\n",
    "depths_u = (depths[:,:,1:]+depths[:,:,:-1])/2\n",
    "depths_v = (depths[:,1:,:]+depths[:,:-1,:])/2\n",
    "sd_grd['depth_u'] = xr.DataArray(depths_u,dims=['s_rho','eta_u','xi_u'])\n",
    "sd_grd['depth_v'] = xr.DataArray(depths_v,dims=['s_rho','eta_v','xi_v'])"
   ]
  },
  {
   "cell_type": "code",
   "execution_count": 7,
   "metadata": {
    "scrolled": true
   },
   "outputs": [],
   "source": [
    "for key in ['rho','u','v']:\n",
    "    sd_bry['lat_'+key+'_south']=sd_grd['lon_'+key][0,:]\n",
    "    sd_bry['lon_'+key+'_south']=sd_grd['lon_'+key][0,:]\n",
    "    sd_bry['depth_'+key+'_south']=sd_grd['depth_'+key][0,:]\n",
    "    \n",
    "    sd_bry['lat_'+key+'_north']=sd_grd['lon_'+key][-1,:]\n",
    "    sd_bry['lon_'+key+'_north']=sd_grd['lon_'+key][-1,:]\n",
    "    sd_bry['depth_'+key+'_north']=sd_grd['depth_'+key][-1,:]\n",
    "        \n",
    "    sd_bry['lat_'+key+'_east']=sd_grd['lon_'+key][:,-1]\n",
    "    sd_bry['lon_'+key+'_east']=sd_grd['lon_'+key][:,-1]\n",
    "    sd_bry['depth_'+key+'_east']=sd_grd['depth_'+key][:,-1]\n",
    "    \n",
    "    sd_bry['lat_'+key+'_west']=sd_grd['lon_'+key][:,0]\n",
    "    sd_bry['lon_'+key+'_west']=sd_grd['lon_'+key][:,0]\n",
    "    sd_bry['depth_'+key+'_west']=sd_grd['depth_'+key][:,0]\n",
    "    "
   ]
  },
  {
   "cell_type": "markdown",
   "metadata": {},
   "source": [
    "# load atom grd and data, select sd area and equip with depth coordinates"
   ]
  },
  {
   "cell_type": "code",
   "execution_count": 9,
   "metadata": {},
   "outputs": [
    {
     "data": {
      "text/html": [
       "<table style=\"border: 2px solid white;\">\n",
       "<tr>\n",
       "<td style=\"vertical-align: top; border: 0px solid white\">\n",
       "<h3>Client</h3>\n",
       "<ul>\n",
       "  <li><b>Scheduler: </b>tcp://127.0.0.1:37421\n",
       "  <li><b>Dashboard: </b><a href='http://127.0.0.1:8787/status' target='_blank'>http://127.0.0.1:8787/status</a>\n",
       "</ul>\n",
       "</td>\n",
       "<td style=\"vertical-align: top; border: 0px solid white\">\n",
       "<h3>Cluster</h3>\n",
       "<ul>\n",
       "  <li><b>Workers: </b>16</li>\n",
       "  <li><b>Cores: </b>16</li>\n",
       "  <li><b>Memory: </b>101.38 GB</li>\n",
       "</ul>\n",
       "</td>\n",
       "</tr>\n",
       "</table>"
      ],
      "text/plain": [
       "<Client: scheduler='tcp://127.0.0.1:37421' processes=16 cores=16>"
      ]
     },
     "execution_count": 9,
     "metadata": {},
     "output_type": "execute_result"
    }
   ],
   "source": [
    "from dask.distributed import Client\n",
    "c = Client()\n",
    "c"
   ]
  },
  {
   "cell_type": "code",
   "execution_count": 20,
   "metadata": {
    "scrolled": true
   },
   "outputs": [],
   "source": [
    "atom_grd_path = os.path.join(data_dir,'processed','waom2_grd.nc')\n",
    "atom_sd_sel = {'xi_rho':slice(2590,2770),'eta_rho':slice(1530,1675),\n",
    "            'xi_u':slice(2590,2769),'eta_u':slice(1530,1675),\n",
    "            'xi_v':slice(2590,2770),'eta_v':slice(1530,1674)}\n",
    "atom_sd_sel_rho = {'xi_rho':slice(2590,2770),'eta_rho':slice(1530,1675)}\n",
    "atom_grd = xr.open_dataset(atom_grd_path).isel(atom_sd_sel)\n",
    "\n",
    "atom_avg_path = os.path.join(data_dir,os.pardir,'analysis','raw','waom2','ocean_avg_0538-0610_zeta.nc')\n",
    "    \n",
    "atom_avg = []    \n",
    "atom_avg = xr.open_mfdataset(atom_avg_path).isel(atom_sd_sel_rho)"
   ]
  },
  {
   "cell_type": "code",
   "execution_count": 11,
   "metadata": {
    "scrolled": true
   },
   "outputs": [],
   "source": [
    "depths = calc_z(atom_grd.h,atom_grd.zice,7,8,250,31)[0]\n",
    "depths_u = (depths[:,:,1:]+depths[:,:,:-1])/2\n",
    "depths_v = (depths[:,1:,:]+depths[:,:-1,:])/2\n",
    "atom_grd['depth_rho'] = xr.DataArray(depths,dims=['s_rho','eta_rho','xi_rho'])\n",
    "\n",
    "atom_grd['depth_u'] = xr.DataArray(depths_u,dims=['s_rho','eta_u','xi_u'])\n",
    "atom_grd['depth_v'] = xr.DataArray(depths_v,dims=['s_rho','eta_v','xi_v'])"
   ]
  },
  {
   "cell_type": "code",
   "execution_count": 69,
   "metadata": {},
   "outputs": [],
   "source": [
    "sort = atom_avg['ocean_time.dayofyear']\n",
    "atom_avg_sorted = atom_avg.sortby(sort)"
   ]
  },
  {
   "cell_type": "code",
   "execution_count": 70,
   "metadata": {
    "scrolled": true
   },
   "outputs": [
    {
     "data": {
      "text/plain": [
       "<xarray.Dataset>\n",
       "Dimensions:     (eta_rho: 145, ocean_time: 73, xi_rho: 180)\n",
       "Coordinates:\n",
       "  * ocean_time  (ocean_time) datetime64[ns] 2015-01-01T12:00:00 ...\n",
       "    x_rho       (eta_rho, xi_rho) float64 dask.array<shape=(145, 180), chunksize=(145, 180)>\n",
       "    y_rho       (eta_rho, xi_rho) float64 dask.array<shape=(145, 180), chunksize=(145, 180)>\n",
       "Dimensions without coordinates: eta_rho, xi_rho\n",
       "Data variables:\n",
       "    zeta        (ocean_time, eta_rho, xi_rho) float32 dask.array<shape=(73, 145, 180), chunksize=(73, 145, 180)>\n",
       "Attributes:\n",
       "    file:              ocean_avg_0538.nc\n",
       "    format:            netCDF-3 64bit offset file\n",
       "    Conventions:       CF-1.4\n",
       "    type:              ROMS/TOMS nonlinear model averages file\n",
       "    title:             Whole Antarctic and Ocean Application, 2 km resolution\n",
       "    rst_file:          ocean_rst.nc\n",
       "    his_base:          ocean_his\n",
       "    avg_base:          ocean_avg\n",
       "    grd_file:          /g/data2/gh9/oxr581/waom_frc/waom2_grd.nc\n",
       "    ini_file:          ocean_rst.nc\n",
       "    frc_file_01:       /g/data2/gh9/oxr581/waom_frc/waom2_tds.nc\n",
       "    frc_file_02:       /g/data2/gh9/oxr581/waom_frc/waom2_shflux.nc\n",
       "    frc_file_03:       /g/data2/gh9/oxr581/waom_frc/waom2_swflux.nc\n",
       "    frc_file_04:       /g/data2/gh9/oxr581/waom_frc/waom2_sustr.nc\n",
       "    frc_file_05:       /g/data2/gh9/oxr581/waom_frc/waom2_svstr.nc\n",
       "    frc_file_06:       /g/data2/gh9/oxr581/waom_frc/waom2_nudge.nc\n",
       "    bry_file:          /g/data2/gh9/oxr581/waom_frc/waom2_bry.nc\n",
       "    script_file:       \n",
       "    NLM_LBC:           \\nEDGE:  WEST   SOUTH  EAST   NORTH  \\nzeta:  Cha    C...\n",
       "    svn_url:           https:://myroms.org/svn/src\n",
       "    svn_rev:           exported\n",
       "    code_dir:          /short/gh9/oxr581/waom2_fix\n",
       "    header_dir:        /short/gh9/oxr581/waom2_fix/ROMS/Include\n",
       "    header_file:       waom.h\n",
       "    os:                Linux\n",
       "    cpu:               x86_64\n",
       "    compiler_system:   ifort\n",
       "    compiler_command:  /apps/openmpi/wrapper/fortran/mpif90\n",
       "    compiler_flags:    -heap-arrays -fp-model precise -ip -O3 -free -free -free\n",
       "    tiling:            008x028\n",
       "    history:           Mon Nov 12 14:37:02 2018: ncks -v zeta ocean_avg_0538....\n",
       "    ana_file:          ROMS/Functionals/ana_btflux.h, ROMS/Functionals/ana_sr...\n",
       "    CPP_options:       WAOM2, ADD_FSOBC, ADD_M2OBC, ANA_BSFLUX, ANA_BTFLUX, A...\n",
       "    NCO:               \"4.6.4\""
      ]
     },
     "execution_count": 70,
     "metadata": {},
     "output_type": "execute_result"
    }
   ],
   "source": [
    "atom_avg_sorted"
   ]
  },
  {
   "cell_type": "code",
   "execution_count": 35,
   "metadata": {
    "scrolled": true
   },
   "outputs": [],
   "source": [
    "import pandas as pd\n",
    "target_times = pd.date_range('2007-01-03 12:00:00','2008',freq='5D')"
   ]
  },
  {
   "cell_type": "code",
   "execution_count": 53,
   "metadata": {},
   "outputs": [
    {
     "data": {
      "text/plain": [
       "<xarray.Dataset>\n",
       "Dimensions:          (eta_rho: 205, eta_u: 205, eta_v: 204, one: 1, s_rho: 31, salt_time: 12, temp_time: 12, v2d_time: 12, v3d_time: 12, xi_rho: 257, xi_u: 256, xi_v: 257, zeta_time: 12)\n",
       "Coordinates:\n",
       "  * temp_time        (temp_time) datetime64[ns] 2007-01-03T12:00:00 ...\n",
       "  * salt_time        (salt_time) float64 15.21 45.62 76.04 106.5 136.9 167.3 ...\n",
       "  * v3d_time         (v3d_time) float64 15.21 45.62 76.04 106.5 136.9 167.3 ...\n",
       "  * v2d_time         (v2d_time) float64 15.21 45.62 76.04 106.5 136.9 167.3 ...\n",
       "  * zeta_time        (zeta_time) float64 15.21 45.62 76.04 106.5 136.9 167.3 ...\n",
       "Dimensions without coordinates: eta_rho, eta_u, eta_v, one, s_rho, xi_rho, xi_u, xi_v\n",
       "Data variables:\n",
       "    theta_s          (one) float64 ...\n",
       "    theta_b          (one) float64 ...\n",
       "    Tcline           (one) float64 ...\n",
       "    hc               (one) float64 ...\n",
       "    sc_r             (s_rho) float64 ...\n",
       "    Cs_r             (s_rho) float64 ...\n",
       "    temp_north       (temp_time, s_rho, xi_rho) float64 ...\n",
       "    salt_north       (salt_time, s_rho, xi_rho) float64 ...\n",
       "    u_north          (v3d_time, s_rho, xi_u) float64 ...\n",
       "    v_north          (v3d_time, s_rho, xi_rho) float64 ...\n",
       "    ubar_north       (v2d_time, xi_u) float64 ...\n",
       "    vbar_north       (v2d_time, xi_rho) float64 ...\n",
       "    zeta_north       (zeta_time, xi_rho) float64 ...\n",
       "    temp_south       (temp_time, s_rho, xi_rho) float64 ...\n",
       "    salt_south       (salt_time, s_rho, xi_rho) float64 ...\n",
       "    u_south          (v3d_time, s_rho, xi_u) float64 ...\n",
       "    v_south          (v3d_time, s_rho, xi_rho) float64 ...\n",
       "    ubar_south       (v2d_time, xi_u) float64 ...\n",
       "    vbar_south       (v2d_time, xi_rho) float64 ...\n",
       "    zeta_south       (zeta_time, xi_rho) float64 ...\n",
       "    temp_east        (temp_time, s_rho, eta_rho) float64 -1.927 -1.926 ...\n",
       "    salt_east        (salt_time, s_rho, eta_rho) float64 ...\n",
       "    u_east           (v3d_time, s_rho, eta_rho) float64 ...\n",
       "    v_east           (v3d_time, s_rho, eta_v) float64 ...\n",
       "    ubar_east        (v2d_time, eta_rho) float64 ...\n",
       "    vbar_east        (v2d_time, eta_v) float64 ...\n",
       "    zeta_east        (zeta_time, eta_rho) float64 ...\n",
       "    temp_west        (temp_time, s_rho, eta_rho) float64 ...\n",
       "    salt_west        (salt_time, s_rho, eta_rho) float64 ...\n",
       "    u_west           (v3d_time, s_rho, eta_rho) float64 ...\n",
       "    v_west           (v3d_time, s_rho, eta_v) float64 ...\n",
       "    ubar_west        (v2d_time, eta_rho) float64 ...\n",
       "    vbar_west        (v2d_time, eta_v) float64 ...\n",
       "    zeta_west        (zeta_time, eta_rho) float64 ...\n",
       "    lat_rho_south    (xi_rho) float64 ...\n",
       "    lon_rho_south    (xi_rho) float64 ...\n",
       "    depth_rho_south  (eta_rho, xi_rho) float64 -164.1 -174.1 -178.1 -180.1 ...\n",
       "    lat_rho_north    (xi_rho) float64 ...\n",
       "    lon_rho_north    (xi_rho) float64 ...\n",
       "    depth_rho_north  (eta_rho, xi_rho) float64 -164.0 -174.0 -178.0 -180.0 ...\n",
       "    lat_rho_east     (eta_rho) float64 ...\n",
       "    lon_rho_east     (eta_rho) float64 ...\n",
       "    depth_rho_east   (s_rho, xi_rho) float64 -705.0 -695.0 -705.0 -723.0 ...\n",
       "    lat_rho_west     (eta_rho) float64 ...\n",
       "    lon_rho_west     (eta_rho) float64 ...\n",
       "    depth_rho_west   (s_rho, xi_rho) float64 -164.1 -174.1 -178.1 -180.1 ...\n",
       "    lat_u_south      (xi_u) float64 ...\n",
       "    lon_u_south      (xi_u) float64 ...\n",
       "    depth_u_south    (eta_u, xi_u) float64 -169.1 -176.1 -179.1 -179.6 ...\n",
       "    lat_u_north      (xi_u) float64 ...\n",
       "    lon_u_north      (xi_u) float64 ...\n",
       "    depth_u_north    (eta_u, xi_u) float64 -169.0 -176.0 -179.0 -179.5 ...\n",
       "    lat_u_east       (eta_u) float64 ...\n",
       "    lon_u_east       (eta_u) float64 ...\n",
       "    depth_u_east     (s_rho, xi_u) float64 -700.0 -700.0 -714.0 -735.0 ...\n",
       "    lat_u_west       (eta_u) float64 ...\n",
       "    lon_u_west       (eta_u) float64 ...\n",
       "    depth_u_west     (s_rho, xi_u) float64 -169.1 -176.1 -179.1 -179.6 ...\n",
       "    lat_v_south      (xi_v) float64 ...\n",
       "    lon_v_south      (xi_v) float64 ...\n",
       "    depth_v_south    (eta_v, xi_v) float64 -166.6 -178.1 -182.6 -184.1 ...\n",
       "    lat_v_north      (xi_v) float64 ...\n",
       "    lon_v_north      (xi_v) float64 ...\n",
       "    depth_v_north    (eta_v, xi_v) float64 -166.5 -178.0 -182.5 -184.0 ...\n",
       "    lat_v_east       (eta_v) float64 ...\n",
       "    lon_v_east       (eta_v) float64 ...\n",
       "    depth_v_east     (s_rho, xi_v) float64 -707.9 -698.0 -705.5 -723.5 ...\n",
       "    lat_v_west       (eta_v) float64 ...\n",
       "    lon_v_west       (eta_v) float64 ...\n",
       "    depth_v_west     (s_rho, xi_v) float64 -166.6 -178.1 -182.6 -184.1 ...\n",
       "Attributes:\n",
       "    title:      ROMS\n",
       "    date:       08-Nov-2018\n",
       "    clim_file:  ../../data/preprocessing/processed/sd_bry.nc\n",
       "    grd_file:   ../../data/preprocessing/processed/sd_grd.nc\n",
       "    type:       BOUNDARY file"
      ]
     },
     "execution_count": 53,
     "metadata": {},
     "output_type": "execute_result"
    }
   ],
   "source": [
    "sd_bry"
   ]
  },
  {
   "cell_type": "code",
   "execution_count": 54,
   "metadata": {},
   "outputs": [],
   "source": [
    "for time in ['temp_time','salt_time','v3d_time','v2d_time','zeta_time']:\n",
    "    sd_bry[time] =  pd.date_range('2007-01-03 12:00:00','2008',periods=12)"
   ]
  },
  {
   "cell_type": "code",
   "execution_count": 63,
   "metadata": {},
   "outputs": [],
   "source": [
    "zeta_east_dummy = sd_bry.zeta_east.resample(zeta_time='5D').interpolate('linear')"
   ]
  },
  {
   "cell_type": "code",
   "execution_count": 82,
   "metadata": {
    "scrolled": true
   },
   "outputs": [],
   "source": [
    "lat_s = atom_grd.lat_rho.values.flatten()\n",
    "lon_s = atom_grd.lon_rho.values.flatten()\n",
    "\n",
    "lon_t = sd_bry.lon_rho_north\n",
    "lat_t = sd_bry.lat_rho_north\n",
    "\n",
    "data_s = atom_avg_sorted.zeta.isel(ocean_time=0).values.flatten()\n",
    "out = griddata((lat_s,lon_s),data_s,(lat_t,lon_t),'nearest')"
   ]
  },
  {
   "cell_type": "code",
   "execution_count": 83,
   "metadata": {},
   "outputs": [
    {
     "data": {
      "text/plain": [
       "array([-1.6370181, -1.6370181, -1.6370181, -1.6370181, -1.6370181,\n",
       "       -1.6370181, -1.6370181, -1.6370181, -1.6370181, -1.6370181,\n",
       "       -1.6370181, -1.6370181, -1.6370181, -1.6370181, -1.6370181,\n",
       "       -1.6370181, -1.6370181, -1.6370181, -1.6370181, -1.6370181,\n",
       "       -1.6370181, -1.6370181, -1.6370181, -1.6370181, -1.6370181,\n",
       "       -1.6370181, -1.6370181, -1.6370181, -1.6370181, -1.6370181,\n",
       "       -1.6370181, -1.6370181, -1.6370181, -1.6370181, -1.6370181,\n",
       "       -1.6370181, -1.6370181, -1.6370181, -1.6370181, -1.6370181,\n",
       "       -1.6370181, -1.6370181, -1.6370181, -1.6370181, -1.6370181,\n",
       "       -1.6370181, -1.6370181, -1.6370181, -1.6370181, -1.6370181,\n",
       "       -1.6370181, -1.6370181, -1.6370181, -1.6370181, -1.6370181,\n",
       "       -1.6370181, -1.6370181, -1.6370181, -1.6370181, -1.6370181,\n",
       "       -1.6370181, -1.6370181, -1.6370181, -1.6370181, -1.6370181,\n",
       "       -1.6370181, -1.6370181, -1.6370181, -1.6370181, -1.6370181,\n",
       "       -1.6370181, -1.6370181, -1.6370181, -1.6370181, -1.6370181,\n",
       "       -1.6370181, -1.6370181, -1.6370181, -1.6370181, -1.6370181,\n",
       "       -1.6370181, -1.6370181, -1.6370181, -1.6370181, -1.6370181,\n",
       "       -1.6370181, -1.6370181, -1.6370181, -1.6370181, -1.6370181,\n",
       "       -1.6370181, -1.6370181, -1.6370181, -1.6370181, -1.6370181,\n",
       "       -1.6370181, -1.6370181, -1.6370181, -1.6370181, -1.6370181,\n",
       "       -1.6370181, -1.6370181, -1.6370181, -1.6370181, -1.6370181,\n",
       "       -1.6370181, -1.6370181, -1.6370181, -1.6370181, -1.6370181,\n",
       "       -1.6370181, -1.6370181, -1.6370181, -1.6370181, -1.6370181,\n",
       "       -1.6370181, -1.6370181, -1.6370181, -1.6370181, -1.6370181,\n",
       "       -1.6370181, -1.6370181, -1.6370181, -1.6370181, -1.6370181,\n",
       "       -1.6370181, -1.6370181, -1.6370181, -1.6370181, -1.6370181,\n",
       "       -1.6370181, -1.6370181, -1.6370181, -1.6370181, -1.6370181,\n",
       "       -1.6370181, -1.6370181, -1.6370181, -1.6370181, -1.6370181,\n",
       "       -1.6370181, -1.6370181, -1.6370181, -1.6370181, -1.6370181,\n",
       "       -1.6370181, -1.6370181, -1.6370181, -1.6370181, -1.6370181,\n",
       "       -1.6370181, -1.6370181, -1.6370181, -1.6370181, -1.6370181,\n",
       "       -1.6370181, -1.6370181, -1.6370181, -1.6370181, -1.6370181,\n",
       "       -1.6370181, -1.6370181, -1.6370181, -1.6370181, -1.6370181,\n",
       "       -1.6370181, -1.6370181, -1.6370181, -1.6370181, -1.6370181,\n",
       "       -1.6370181, -1.6370181, -1.6370181, -1.6370181, -1.6370181,\n",
       "       -1.6370181, -1.6370181, -1.6370181, -1.6370181, -1.6370181,\n",
       "       -1.6370181, -1.6370181, -1.6370181, -1.6370181, -1.6370181,\n",
       "       -1.6370181, -1.6370181, -1.6370181, -1.6370181, -1.6370181,\n",
       "       -1.6370181, -1.6370181, -1.6370181, -1.6370181, -1.6370181,\n",
       "       -1.6370181, -1.6370181, -1.6370181, -1.6370181, -1.6370181,\n",
       "       -1.6370181, -1.6370181, -1.6370181, -1.6370181, -1.6370181,\n",
       "       -1.6370181, -1.6370181, -1.6370181, -1.6370181, -1.6370181,\n",
       "       -1.6370181, -1.6370181, -1.6370181, -1.6370181, -1.6370181,\n",
       "       -1.6370181, -1.6370181, -1.6370181, -1.6370181, -1.6370181,\n",
       "       -1.6370181, -1.6370181, -1.6370181, -1.6370181, -1.6370181,\n",
       "       -1.6370181, -1.6370181, -1.6370181, -1.6370181, -1.6370181,\n",
       "       -1.6370181, -1.6370181, -1.6370181, -1.6370181, -1.6370181,\n",
       "       -1.6370181, -1.6370181, -1.6370181, -1.6370181, -1.6370181,\n",
       "       -1.6370181, -1.6370181, -1.6370181, -1.6370181, -1.6370181,\n",
       "       -1.6370181, -1.6370181, -1.6370181, -1.6370181, -1.6370181,\n",
       "       -1.6370181, -1.6370181, -1.6370181, -1.6370181, -1.6370181,\n",
       "       -1.6370181, -1.6370181], dtype=float32)"
      ]
     },
     "execution_count": 83,
     "metadata": {},
     "output_type": "execute_result"
    }
   ],
   "source": []
  }
 ],
 "metadata": {
  "kernelspec": {
   "display_name": "Python 3",
   "language": "python",
   "name": "python3"
  },
  "language_info": {
   "codemirror_mode": {
    "name": "ipython",
    "version": 3
   },
   "file_extension": ".py",
   "mimetype": "text/x-python",
   "name": "python",
   "nbconvert_exporter": "python",
   "pygments_lexer": "ipython3",
   "version": "3.6.6"
  }
 },
 "nbformat": 4,
 "nbformat_minor": 2
}
