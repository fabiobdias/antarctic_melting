{
 "cells": [
  {
   "cell_type": "code",
   "execution_count": 4,
   "metadata": {},
   "outputs": [],
   "source": [
    "import xarray as xr\n",
    "import os\n",
    "\n",
    "proj_dir = os.path.join(os.pardir,os.pardir)\n",
    "data_dir = os.path.join(proj_dir,'data')"
   ]
  },
  {
   "cell_type": "raw",
   "metadata": {},
   "source": [
    "from dask.distributed import Client\n",
    "C = Client()\n",
    "C"
   ]
  },
  {
   "cell_type": "code",
   "execution_count": 5,
   "metadata": {},
   "outputs": [],
   "source": [
    "# Amundsen\n",
    "coords_amundsen = {'xi_rho':slice(520,760),'eta_rho':slice(950,1220),\n",
    "          'xi_u': slice(520,759), 'eta_u': slice(950,1220),\n",
    "          'xi_v': slice(520,760) , 'eta_v': slice(950,1219),\n",
    "          'xi_psi': slice(520,759), 'eta_psi': slice(950,1219)}\n",
    "\n",
    "coords_drygalski = {'xi_rho':slice(1500,1770),'eta_rho':slice(400,660),\n",
    "          'xi_u':slice(1500,1769),'eta_u':slice(400,660),\n",
    "          'xi_v':slice(1500,1770),'eta_v':slice(400,659),\n",
    "          'xi_psi':slice(1500,1769),'eta_psi':slice(400,659)}"
   ]
  },
  {
   "cell_type": "code",
   "execution_count": 6,
   "metadata": {
    "scrolled": true
   },
   "outputs": [],
   "source": [
    "def subset(coords,name):\n",
    "    ds = xr.Dataset()\n",
    "\n",
    "    for var,gt in [['m','rho'],['zeta','rho'],['ubar','u'],['vbar','v'],\n",
    "                   ['temp','rho'],['salt','rho'],['u','u'],['v','v']]:\n",
    "        print(f'processing {var}')\n",
    "        path = os.path.join(data_dir,'analysis','raw','waom2','ocean_avg_0538-0610_'+var+'.nc')\n",
    "        da = xr.open_dataset(path)[var]\n",
    "        da = da.isel({'xi_'+gt : coords['xi_'+gt], 'eta_'+gt : coords['eta_'+gt]})\n",
    "        ds[var] = da\n",
    "\n",
    "    print('processing grid')    \n",
    "    grd_path = os.path.join(data_dir,'analysis','interim','grd2_dV.nc')\n",
    "    grd = xr.open_dataset(grd_path).isel(coords)\n",
    "    ds = ds.merge(grd)\n",
    "    \n",
    "    #out_path = os.path.join(data_dir,'analysis','processed',f'atom2_{name}.nc')\n",
    "    out_path = os.path.join('~','raijin','short','gh9','oxr581','waom2',f'atom2_{name}.nc')\n",
    "    print(f'writing to {out_path}')\n",
    "    ds.to_netcdf(out_path)"
   ]
  },
  {
   "cell_type": "code",
   "execution_count": 7,
   "metadata": {},
   "outputs": [
    {
     "name": "stdout",
     "output_type": "stream",
     "text": [
      "processing m\n",
      "processing zeta\n",
      "processing ubar\n",
      "processing vbar\n",
      "processing temp\n",
      "processing salt\n",
      "processing u\n",
      "processing v\n",
      "processing grid\n",
      "writing to ~/raijin/short/gh9/oxr581/waom2/atom2_drygalski.nc\n"
     ]
    }
   ],
   "source": [
    "#subset(coords_amundsen,'amundsen')\n",
    "subset(coords_drygalski,'drygalski')"
   ]
  },
  {
   "cell_type": "code",
   "execution_count": null,
   "metadata": {},
   "outputs": [],
   "source": []
  }
 ],
 "metadata": {
  "kernelspec": {
   "display_name": "Python 3",
   "language": "python",
   "name": "python3"
  },
  "language_info": {
   "codemirror_mode": {
    "name": "ipython",
    "version": 3
   },
   "file_extension": ".py",
   "mimetype": "text/x-python",
   "name": "python",
   "nbconvert_exporter": "python",
   "pygments_lexer": "ipython3",
   "version": "3.6.6"
  }
 },
 "nbformat": 4,
 "nbformat_minor": 2
}
