{
 "cells": [
  {
   "cell_type": "code",
   "execution_count": null,
   "metadata": {},
   "outputs": [],
   "source": [
    "import xarray as xr\n",
    "import matplotlib.pyplot as plt\n",
    "import os\n",
    "import sys\n",
    "import numpy as np\n",
    "import pandas as pd\n",
    "import scipy.io as sio\n",
    "\n",
    "proj_dir = os.path.join(os.pardir,os.pardir)\n",
    "data_dir = os.path.join(proj_dir,'data')\n",
    "\n",
    "src_dir = os.path.join(proj_dir,'src')\n",
    "sys.path.append(src_dir)\n",
    "\n",
    "from tools.log_progress import log_progress\n",
    "\n",
    "coords_path = os.path.join(data_dir,'analysis','external','antbounds','shelves2.mat')\n",
    "#coords_path = os.path.join(data_dir,'analysis','external','antbounds','shelves10.mat')\n",
    "int_dir = os.path.join(data_dir,'analysis','interim')\n",
    "pro_dir = os.path.join(data_dir,'analysis','processed')\n",
    "fig_dir = os.path.join(os.pardir,os.pardir,'reports','figures')\n",
    "grid_path = os.path.join(data_dir,'preprocessing','processed','waom2_grd.nc')\n",
    "\n",
    "\n",
    "pd.options.display.float_format = '{:,.2f}'.format"
   ]
  }
 ],
 "metadata": {
  "kernelspec": {
   "display_name": "Python 3",
   "language": "python",
   "name": "python3"
  },
  "language_info": {
   "codemirror_mode": {
    "name": "ipython",
    "version": 3
   },
   "file_extension": ".py",
   "mimetype": "text/x-python",
   "name": "python",
   "nbconvert_exporter": "python",
   "pygments_lexer": "ipython3",
   "version": "3.6.6"
  }
 },
 "nbformat": 4,
 "nbformat_minor": 2
}
